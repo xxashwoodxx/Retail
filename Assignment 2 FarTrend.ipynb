{
 "cells": [
  {
   "cell_type": "markdown",
   "metadata": {},
   "source": [
    "# Assignment Overview\n"
   ]
  },
  {
   "cell_type": "markdown",
   "metadata": {},
   "source": [
    "## Background Story  "
   ]
  },
  {
   "cell_type": "markdown",
   "metadata": {},
   "source": [
    "In the ever-evolving landscape of e-commerce, understanding customer behavior has become a cornerstone of strategic marketing. An emerging e-commerce giant, \"FarTrend,\" has experienced rapid growth by offering a wide range of products from fashion to electronics, catering to over 3400 customers across diverse demographics. Despite their success, FarTrend faces challenges in personalizing marketing efforts and predicting future purchasing behavior, crucial for sustaining growth and enhancing customer satisfaction.\n",
    "\n",
    "## The Challenge\n",
    "\n",
    "FarTrend's extensive customer database reveals purchasing patterns over the past year but lacks actionable insights to anticipate the needs of new customers. Traditional marketing strategies have yielded moderate success; however, the leadership team believes that a more data-driven approach could unlock exponential growth.\n",
    "\n",
    "You are working on the marketing intelligence team! Your goal is to develop a  machine learning model that segments FarTrend's customer base and predicts future purchases of new customers within their first year. This model aims to transform FarTrend approach to customer engagement by delivering personalized marketing campaigns and tailored product recommendations."
   ]
  },
  {
   "cell_type": "markdown",
   "metadata": {},
   "source": [
    "## Data Description"
   ]
  },
  {
   "cell_type": "markdown",
   "metadata": {},
   "source": [
    "The IT extracted a dataframe with the main transaction performed by the customers. "
   ]
  },
  {
   "cell_type": "markdown",
   "metadata": {},
   "source": [
    "##### Variables\n",
    "InvoiceNo: Invoice number. A 6-digit integral number uniquely assigned to each transaction. If this code starts with letter 'c', it indicates a cancellation.\n",
    "\n",
    "StockCode: Product (item) code. A 5-digit integral number uniquely assigned to each distinct product.\n",
    "\n",
    "Description: Product (item) name.\n",
    "\n",
    "Quantity: The quantities of each product (item) per transaction. \n",
    "\n",
    "InvoiceDate: The day and time when each transaction was generated.\n",
    "\n",
    "UnitPrice: Product price per unit.\n",
    "\n",
    "CustomerID: Unique customer number. \n",
    "\n",
    "Country: The name of the country where each customer resides."
   ]
  },
  {
   "cell_type": "markdown",
   "metadata": {},
   "source": [
    "## Question 1: Data Quality and Customer Understanding (30 points)"
   ]
  },
  {
   "cell_type": "markdown",
   "metadata": {},
   "source": [
    "#### Q1.1 Please perform the exploratory data analysis of the data. (20 points)\n"
   ]
  },
  {
   "cell_type": "code",
   "execution_count": 2,
   "outputs": [],
   "source": [
    "# import required libraries\n",
    "import pandas as pd\n",
    "import matplotlib as plt\n",
    "import seaborn as sns\n",
    "import numpy as np"
   ],
   "metadata": {
    "collapsed": false,
    "ExecuteTime": {
     "end_time": "2024-03-07T14:52:46.878942Z",
     "start_time": "2024-03-07T14:52:46.809585Z"
    }
   }
  },
  {
   "cell_type": "code",
   "execution_count": 3,
   "outputs": [],
   "source": [
    "# load the data set\n",
    "retail_raw = pd.read_excel(\"/Users/simon/Root/Life/Learning/Nova Master/Semester 2/T3/Machine Learning/Assignment 2/FarTrend eRetail Assignment 2.xlsx\")"
   ],
   "metadata": {
    "collapsed": false,
    "ExecuteTime": {
     "end_time": "2024-03-07T14:53:32.582466Z",
     "start_time": "2024-03-07T14:52:46.814693Z"
    }
   }
  },
  {
   "cell_type": "markdown",
   "source": [
    "#### Data Information"
   ],
   "metadata": {
    "collapsed": false
   }
  },
  {
   "cell_type": "code",
   "execution_count": 4,
   "metadata": {
    "ExecuteTime": {
     "end_time": "2024-03-07T14:53:32.665849Z",
     "start_time": "2024-03-07T14:53:32.587635Z"
    }
   },
   "outputs": [
    {
     "data": {
      "text/plain": "  InvoiceNo StockCode                          Description  Quantity  \\\n0    536365    85123A   WHITE HANGING HEART T-LIGHT HOLDER         6   \n1    536365     71053                  WHITE METAL LANTERN         6   \n2    536365    84406B       CREAM CUPID HEARTS COAT HANGER         8   \n3    536365    84029G  KNITTED UNION FLAG HOT WATER BOTTLE         6   \n4    536365    84029E       RED WOOLLY HOTTIE WHITE HEART.         6   \n\n          InvoiceDate  UnitPrice  CustomerID         Country  \n0 2010-12-01 08:26:00       2.55     17850.0  United Kingdom  \n1 2010-12-01 08:26:00       3.39     17850.0  United Kingdom  \n2 2010-12-01 08:26:00       2.75     17850.0  United Kingdom  \n3 2010-12-01 08:26:00       3.39     17850.0  United Kingdom  \n4 2010-12-01 08:26:00       3.39     17850.0  United Kingdom  ",
      "text/html": "<div>\n<style scoped>\n    .dataframe tbody tr th:only-of-type {\n        vertical-align: middle;\n    }\n\n    .dataframe tbody tr th {\n        vertical-align: top;\n    }\n\n    .dataframe thead th {\n        text-align: right;\n    }\n</style>\n<table border=\"1\" class=\"dataframe\">\n  <thead>\n    <tr style=\"text-align: right;\">\n      <th></th>\n      <th>InvoiceNo</th>\n      <th>StockCode</th>\n      <th>Description</th>\n      <th>Quantity</th>\n      <th>InvoiceDate</th>\n      <th>UnitPrice</th>\n      <th>CustomerID</th>\n      <th>Country</th>\n    </tr>\n  </thead>\n  <tbody>\n    <tr>\n      <th>0</th>\n      <td>536365</td>\n      <td>85123A</td>\n      <td>WHITE HANGING HEART T-LIGHT HOLDER</td>\n      <td>6</td>\n      <td>2010-12-01 08:26:00</td>\n      <td>2.55</td>\n      <td>17850.0</td>\n      <td>United Kingdom</td>\n    </tr>\n    <tr>\n      <th>1</th>\n      <td>536365</td>\n      <td>71053</td>\n      <td>WHITE METAL LANTERN</td>\n      <td>6</td>\n      <td>2010-12-01 08:26:00</td>\n      <td>3.39</td>\n      <td>17850.0</td>\n      <td>United Kingdom</td>\n    </tr>\n    <tr>\n      <th>2</th>\n      <td>536365</td>\n      <td>84406B</td>\n      <td>CREAM CUPID HEARTS COAT HANGER</td>\n      <td>8</td>\n      <td>2010-12-01 08:26:00</td>\n      <td>2.75</td>\n      <td>17850.0</td>\n      <td>United Kingdom</td>\n    </tr>\n    <tr>\n      <th>3</th>\n      <td>536365</td>\n      <td>84029G</td>\n      <td>KNITTED UNION FLAG HOT WATER BOTTLE</td>\n      <td>6</td>\n      <td>2010-12-01 08:26:00</td>\n      <td>3.39</td>\n      <td>17850.0</td>\n      <td>United Kingdom</td>\n    </tr>\n    <tr>\n      <th>4</th>\n      <td>536365</td>\n      <td>84029E</td>\n      <td>RED WOOLLY HOTTIE WHITE HEART.</td>\n      <td>6</td>\n      <td>2010-12-01 08:26:00</td>\n      <td>3.39</td>\n      <td>17850.0</td>\n      <td>United Kingdom</td>\n    </tr>\n  </tbody>\n</table>\n</div>"
     },
     "execution_count": 4,
     "metadata": {},
     "output_type": "execute_result"
    }
   ],
   "source": [
    "retail_raw.head()"
   ]
  },
  {
   "cell_type": "code",
   "execution_count": 5,
   "outputs": [
    {
     "data": {
      "text/plain": "array(['WHITE HANGING HEART T-LIGHT HOLDER', 'WHITE METAL LANTERN',\n       'CREAM CUPID HEARTS COAT HANGER', ..., 'lost',\n       'CREAM HANGING HEART T-LIGHT HOLDER',\n       'PAPER CRAFT , LITTLE BIRDIE'], dtype=object)"
     },
     "execution_count": 5,
     "metadata": {},
     "output_type": "execute_result"
    }
   ],
   "source": [
    "retail_raw['Description'].unique()"
   ],
   "metadata": {
    "collapsed": false,
    "ExecuteTime": {
     "end_time": "2024-03-07T14:53:32.730308Z",
     "start_time": "2024-03-07T14:53:32.686722Z"
    }
   }
  },
  {
   "cell_type": "code",
   "execution_count": 6,
   "outputs": [
    {
     "data": {
      "text/plain": "InvoiceNo           0\nStockCode           0\nDescription      1454\nQuantity            0\nInvoiceDate         0\nUnitPrice           0\nCustomerID     135080\nCountry             0\ndtype: int64"
     },
     "execution_count": 6,
     "metadata": {},
     "output_type": "execute_result"
    }
   ],
   "source": [
    "retail_raw.isna().sum()"
   ],
   "metadata": {
    "collapsed": false,
    "ExecuteTime": {
     "end_time": "2024-03-07T14:53:32.980509Z",
     "start_time": "2024-03-07T14:53:32.691319Z"
    }
   }
  },
  {
   "cell_type": "code",
   "execution_count": 7,
   "outputs": [
    {
     "data": {
      "text/plain": "            Quantity      UnitPrice     CustomerID\ncount  541909.000000  541909.000000  406829.000000\nmean        9.552250       4.611114   15287.690570\nstd       218.081158      96.759853    1713.600303\nmin    -80995.000000  -11062.060000   12346.000000\n25%         1.000000       1.250000   13953.000000\n50%         3.000000       2.080000   15152.000000\n75%        10.000000       4.130000   16791.000000\nmax     80995.000000   38970.000000   18287.000000",
      "text/html": "<div>\n<style scoped>\n    .dataframe tbody tr th:only-of-type {\n        vertical-align: middle;\n    }\n\n    .dataframe tbody tr th {\n        vertical-align: top;\n    }\n\n    .dataframe thead th {\n        text-align: right;\n    }\n</style>\n<table border=\"1\" class=\"dataframe\">\n  <thead>\n    <tr style=\"text-align: right;\">\n      <th></th>\n      <th>Quantity</th>\n      <th>UnitPrice</th>\n      <th>CustomerID</th>\n    </tr>\n  </thead>\n  <tbody>\n    <tr>\n      <th>count</th>\n      <td>541909.000000</td>\n      <td>541909.000000</td>\n      <td>406829.000000</td>\n    </tr>\n    <tr>\n      <th>mean</th>\n      <td>9.552250</td>\n      <td>4.611114</td>\n      <td>15287.690570</td>\n    </tr>\n    <tr>\n      <th>std</th>\n      <td>218.081158</td>\n      <td>96.759853</td>\n      <td>1713.600303</td>\n    </tr>\n    <tr>\n      <th>min</th>\n      <td>-80995.000000</td>\n      <td>-11062.060000</td>\n      <td>12346.000000</td>\n    </tr>\n    <tr>\n      <th>25%</th>\n      <td>1.000000</td>\n      <td>1.250000</td>\n      <td>13953.000000</td>\n    </tr>\n    <tr>\n      <th>50%</th>\n      <td>3.000000</td>\n      <td>2.080000</td>\n      <td>15152.000000</td>\n    </tr>\n    <tr>\n      <th>75%</th>\n      <td>10.000000</td>\n      <td>4.130000</td>\n      <td>16791.000000</td>\n    </tr>\n    <tr>\n      <th>max</th>\n      <td>80995.000000</td>\n      <td>38970.000000</td>\n      <td>18287.000000</td>\n    </tr>\n  </tbody>\n</table>\n</div>"
     },
     "execution_count": 7,
     "metadata": {},
     "output_type": "execute_result"
    }
   ],
   "source": [
    "retail_raw.describe()"
   ],
   "metadata": {
    "collapsed": false,
    "ExecuteTime": {
     "end_time": "2024-03-07T14:53:33.046542Z",
     "start_time": "2024-03-07T14:53:32.960622Z"
    }
   }
  },
  {
   "cell_type": "code",
   "execution_count": 8,
   "outputs": [
    {
     "name": "stdout",
     "output_type": "stream",
     "text": [
      "<class 'pandas.core.frame.DataFrame'>\n",
      "RangeIndex: 541909 entries, 0 to 541908\n",
      "Data columns (total 8 columns):\n",
      " #   Column       Non-Null Count   Dtype         \n",
      "---  ------       --------------   -----         \n",
      " 0   InvoiceNo    541909 non-null  object        \n",
      " 1   StockCode    541909 non-null  object        \n",
      " 2   Description  540455 non-null  object        \n",
      " 3   Quantity     541909 non-null  int64         \n",
      " 4   InvoiceDate  541909 non-null  datetime64[ns]\n",
      " 5   UnitPrice    541909 non-null  float64       \n",
      " 6   CustomerID   406829 non-null  float64       \n",
      " 7   Country      541909 non-null  object        \n",
      "dtypes: datetime64[ns](1), float64(2), int64(1), object(4)\n",
      "memory usage: 33.1+ MB\n"
     ]
    }
   ],
   "source": [
    "retail_raw.info(show_counts=True)"
   ],
   "metadata": {
    "collapsed": false,
    "ExecuteTime": {
     "end_time": "2024-03-07T14:53:33.318363Z",
     "start_time": "2024-03-07T14:53:33.020958Z"
    }
   }
  },
  {
   "cell_type": "code",
   "execution_count": 9,
   "outputs": [
    {
     "data": {
      "text/plain": "array(['United Kingdom', 'France', 'Australia', 'Netherlands', 'Germany',\n       'Norway', 'EIRE', 'Switzerland', 'Spain', 'Poland', 'Portugal',\n       'Italy', 'Belgium', 'Lithuania', 'Japan', 'Iceland',\n       'Channel Islands', 'Denmark', 'Cyprus', 'Sweden', 'Austria',\n       'Israel', 'Finland', 'Bahrain', 'Greece', 'Hong Kong', 'Singapore',\n       'Lebanon', 'United Arab Emirates', 'Saudi Arabia',\n       'Czech Republic', 'Canada', 'Unspecified', 'Brazil', 'USA',\n       'European Community', 'Malta', 'RSA'], dtype=object)"
     },
     "execution_count": 9,
     "metadata": {},
     "output_type": "execute_result"
    }
   ],
   "source": [
    "retail_raw['Country'].unique()"
   ],
   "metadata": {
    "collapsed": false,
    "ExecuteTime": {
     "end_time": "2024-03-07T14:53:33.362659Z",
     "start_time": "2024-03-07T14:53:33.310259Z"
    }
   }
  },
  {
   "cell_type": "code",
   "execution_count": 10,
   "outputs": [
    {
     "data": {
      "text/plain": "       InvoiceNo StockCode                          Description  Quantity  \\\n168149    551013     22839      3 TIER CAKE TIN GREEN AND CREAM         1   \n168150    551013     22840           ROUND CAKE TIN VINTAGE RED         2   \n168151    551013     22841         ROUND CAKE TIN VINTAGE GREEN         2   \n168152    551013     22457      NATURAL SLATE HEART CHALKBOARD          6   \n168153    551013     22314          OFFICE MUG WARMER CHOC+BLUE         6   \n...          ...       ...                                  ...       ...   \n273232    560783     21098                CHRISTMAS TOILET ROLL        12   \n273233    560783    72807C  SET/3 VANILLA SCENTED CANDLE IN BOX        12   \n273234    560783    85036B   CHOCOLATE 1 WICK MORRIS BOX CANDLE        12   \n273235    560783    85035C        ROSE 3 WICK MORRIS BOX CANDLE         8   \n273236    560783      POST                              POSTAGE         4   \n\n               InvoiceDate  UnitPrice  CustomerID             Country  \n168149 2011-04-26 10:54:00      14.95     15108.0  European Community  \n168150 2011-04-26 10:54:00       7.95     15108.0  European Community  \n168151 2011-04-26 10:54:00       7.95     15108.0  European Community  \n168152 2011-04-26 10:54:00       2.95     15108.0  European Community  \n168153 2011-04-26 10:54:00       2.95     15108.0  European Community  \n...                    ...        ...         ...                 ...  \n273232 2011-07-21 10:24:00       1.25     15108.0  European Community  \n273233 2011-07-21 10:24:00       4.25     15108.0  European Community  \n273234 2011-07-21 10:24:00       4.25     15108.0  European Community  \n273235 2011-07-21 10:24:00       4.25     15108.0  European Community  \n273236 2011-07-21 10:24:00      15.00     15108.0  European Community  \n\n[61 rows x 8 columns]",
      "text/html": "<div>\n<style scoped>\n    .dataframe tbody tr th:only-of-type {\n        vertical-align: middle;\n    }\n\n    .dataframe tbody tr th {\n        vertical-align: top;\n    }\n\n    .dataframe thead th {\n        text-align: right;\n    }\n</style>\n<table border=\"1\" class=\"dataframe\">\n  <thead>\n    <tr style=\"text-align: right;\">\n      <th></th>\n      <th>InvoiceNo</th>\n      <th>StockCode</th>\n      <th>Description</th>\n      <th>Quantity</th>\n      <th>InvoiceDate</th>\n      <th>UnitPrice</th>\n      <th>CustomerID</th>\n      <th>Country</th>\n    </tr>\n  </thead>\n  <tbody>\n    <tr>\n      <th>168149</th>\n      <td>551013</td>\n      <td>22839</td>\n      <td>3 TIER CAKE TIN GREEN AND CREAM</td>\n      <td>1</td>\n      <td>2011-04-26 10:54:00</td>\n      <td>14.95</td>\n      <td>15108.0</td>\n      <td>European Community</td>\n    </tr>\n    <tr>\n      <th>168150</th>\n      <td>551013</td>\n      <td>22840</td>\n      <td>ROUND CAKE TIN VINTAGE RED</td>\n      <td>2</td>\n      <td>2011-04-26 10:54:00</td>\n      <td>7.95</td>\n      <td>15108.0</td>\n      <td>European Community</td>\n    </tr>\n    <tr>\n      <th>168151</th>\n      <td>551013</td>\n      <td>22841</td>\n      <td>ROUND CAKE TIN VINTAGE GREEN</td>\n      <td>2</td>\n      <td>2011-04-26 10:54:00</td>\n      <td>7.95</td>\n      <td>15108.0</td>\n      <td>European Community</td>\n    </tr>\n    <tr>\n      <th>168152</th>\n      <td>551013</td>\n      <td>22457</td>\n      <td>NATURAL SLATE HEART CHALKBOARD</td>\n      <td>6</td>\n      <td>2011-04-26 10:54:00</td>\n      <td>2.95</td>\n      <td>15108.0</td>\n      <td>European Community</td>\n    </tr>\n    <tr>\n      <th>168153</th>\n      <td>551013</td>\n      <td>22314</td>\n      <td>OFFICE MUG WARMER CHOC+BLUE</td>\n      <td>6</td>\n      <td>2011-04-26 10:54:00</td>\n      <td>2.95</td>\n      <td>15108.0</td>\n      <td>European Community</td>\n    </tr>\n    <tr>\n      <th>...</th>\n      <td>...</td>\n      <td>...</td>\n      <td>...</td>\n      <td>...</td>\n      <td>...</td>\n      <td>...</td>\n      <td>...</td>\n      <td>...</td>\n    </tr>\n    <tr>\n      <th>273232</th>\n      <td>560783</td>\n      <td>21098</td>\n      <td>CHRISTMAS TOILET ROLL</td>\n      <td>12</td>\n      <td>2011-07-21 10:24:00</td>\n      <td>1.25</td>\n      <td>15108.0</td>\n      <td>European Community</td>\n    </tr>\n    <tr>\n      <th>273233</th>\n      <td>560783</td>\n      <td>72807C</td>\n      <td>SET/3 VANILLA SCENTED CANDLE IN BOX</td>\n      <td>12</td>\n      <td>2011-07-21 10:24:00</td>\n      <td>4.25</td>\n      <td>15108.0</td>\n      <td>European Community</td>\n    </tr>\n    <tr>\n      <th>273234</th>\n      <td>560783</td>\n      <td>85036B</td>\n      <td>CHOCOLATE 1 WICK MORRIS BOX CANDLE</td>\n      <td>12</td>\n      <td>2011-07-21 10:24:00</td>\n      <td>4.25</td>\n      <td>15108.0</td>\n      <td>European Community</td>\n    </tr>\n    <tr>\n      <th>273235</th>\n      <td>560783</td>\n      <td>85035C</td>\n      <td>ROSE 3 WICK MORRIS BOX CANDLE</td>\n      <td>8</td>\n      <td>2011-07-21 10:24:00</td>\n      <td>4.25</td>\n      <td>15108.0</td>\n      <td>European Community</td>\n    </tr>\n    <tr>\n      <th>273236</th>\n      <td>560783</td>\n      <td>POST</td>\n      <td>POSTAGE</td>\n      <td>4</td>\n      <td>2011-07-21 10:24:00</td>\n      <td>15.00</td>\n      <td>15108.0</td>\n      <td>European Community</td>\n    </tr>\n  </tbody>\n</table>\n<p>61 rows × 8 columns</p>\n</div>"
     },
     "execution_count": 10,
     "metadata": {},
     "output_type": "execute_result"
    }
   ],
   "source": [
    "european_community = retail_raw[retail_raw['Country'] == \"European Community\"]\n",
    "european_community"
   ],
   "metadata": {
    "collapsed": false,
    "ExecuteTime": {
     "end_time": "2024-03-07T14:53:33.429528Z",
     "start_time": "2024-03-07T14:53:33.354544Z"
    }
   }
  },
  {
   "cell_type": "code",
   "execution_count": 11,
   "outputs": [
    {
     "data": {
      "text/plain": "InvoiceNo              object\nStockCode              object\nDescription            object\nQuantity                int64\nInvoiceDate    datetime64[ns]\nUnitPrice             float64\nCustomerID            float64\nCountry                object\ndtype: object"
     },
     "execution_count": 11,
     "metadata": {},
     "output_type": "execute_result"
    }
   ],
   "source": [
    "retail_raw.dtypes"
   ],
   "metadata": {
    "collapsed": false,
    "ExecuteTime": {
     "end_time": "2024-03-07T14:53:33.430329Z",
     "start_time": "2024-03-07T14:53:33.370676Z"
    }
   }
  },
  {
   "cell_type": "markdown",
   "source": [
    "#### Consistency"
   ],
   "metadata": {
    "collapsed": false
   }
  },
  {
   "cell_type": "code",
   "execution_count": 12,
   "outputs": [
    {
     "data": {
      "text/plain": "   InvoiceNo StockCode                          Description  Quantity  \\\n0     536365    85123A   WHITE HANGING HEART T-LIGHT HOLDER         6   \n1     536365     71053                  WHITE METAL LANTERN         6   \n2     536365    84406B       CREAM CUPID HEARTS COAT HANGER         8   \n3     536365    84029G  KNITTED UNION FLAG HOT WATER BOTTLE         6   \n4     536365    84029E       RED WOOLLY HOTTIE WHITE HEART.         6   \n5     536365     22752         SET 7 BABUSHKA NESTING BOXES         2   \n6     536365     21730    GLASS STAR FROSTED T-LIGHT HOLDER         6   \n7     536366     22633               HAND WARMER UNION JACK         6   \n8     536366     22632            HAND WARMER RED POLKA DOT         6   \n9     536367     84879        ASSORTED COLOUR BIRD ORNAMENT        32   \n10    536367     22745           POPPY'S PLAYHOUSE BEDROOM          6   \n11    536367     22748            POPPY'S PLAYHOUSE KITCHEN         6   \n12    536367     22749    FELTCRAFT PRINCESS CHARLOTTE DOLL         8   \n13    536367     22310              IVORY KNITTED MUG COSY          6   \n14    536367     84969   BOX OF 6 ASSORTED COLOUR TEASPOONS         6   \n15    536367     22623        BOX OF VINTAGE JIGSAW BLOCKS          3   \n16    536367     22622       BOX OF VINTAGE ALPHABET BLOCKS         2   \n17    536367     21754             HOME BUILDING BLOCK WORD         3   \n18    536367     21755             LOVE BUILDING BLOCK WORD         3   \n19    536367     21777          RECIPE BOX WITH METAL HEART         4   \n20    536367     48187                  DOORMAT NEW ENGLAND         4   \n21    536368     22960             JAM MAKING SET WITH JARS         6   \n22    536368     22913          RED COAT RACK PARIS FASHION         3   \n23    536368     22912       YELLOW COAT RACK PARIS FASHION         3   \n24    536368     22914         BLUE COAT RACK PARIS FASHION         3   \n25    536369     21756             BATH BUILDING BLOCK WORD         3   \n26    536370     22728            ALARM CLOCK BAKELIKE PINK        24   \n27    536370     22727            ALARM CLOCK BAKELIKE RED         24   \n28    536370     22726           ALARM CLOCK BAKELIKE GREEN        12   \n29    536370     21724      PANDA AND BUNNIES STICKER SHEET        12   \n30    536370     21883                     STARS GIFT TAPE         24   \n31    536370     10002          INFLATABLE POLITICAL GLOBE         48   \n32    536370     21791   VINTAGE HEADS AND TAILS CARD GAME         24   \n33    536370     21035      SET/2 RED RETROSPOT TEA TOWELS         18   \n34    536370     22326  ROUND SNACK BOXES SET OF4 WOODLAND         24   \n35    536370     22629                  SPACEBOY LUNCH BOX         24   \n36    536370     22659              LUNCH BOX I LOVE LONDON        24   \n37    536370     22631             CIRCUS PARADE LUNCH BOX         24   \n38    536370     22661      CHARLOTTE BAG DOLLY GIRL DESIGN        20   \n39    536370     21731        RED TOADSTOOL LED NIGHT LIGHT        24   \n40    536370     22900      SET 2 TEA TOWELS I LOVE LONDON         24   \n41    536370     21913       VINTAGE SEASIDE JIGSAW PUZZLES        12   \n42    536370     22540           MINI JIGSAW CIRCUS PARADE         24   \n43    536370     22544                 MINI JIGSAW SPACEBOY        24   \n44    536370     22492              MINI PAINT SET VINTAGE         36   \n45    536370      POST                              POSTAGE         3   \n46    536371     22086      PAPER CHAIN KIT 50'S CHRISTMAS         80   \n47    536372     22632            HAND WARMER RED POLKA DOT         6   \n48    536372     22633               HAND WARMER UNION JACK         6   \n49    536373    85123A   WHITE HANGING HEART T-LIGHT HOLDER         6   \n\n           InvoiceDate  UnitPrice  CustomerID         Country  \n0  2010-12-01 08:26:00       2.55     17850.0  United Kingdom  \n1  2010-12-01 08:26:00       3.39     17850.0  United Kingdom  \n2  2010-12-01 08:26:00       2.75     17850.0  United Kingdom  \n3  2010-12-01 08:26:00       3.39     17850.0  United Kingdom  \n4  2010-12-01 08:26:00       3.39     17850.0  United Kingdom  \n5  2010-12-01 08:26:00       7.65     17850.0  United Kingdom  \n6  2010-12-01 08:26:00       4.25     17850.0  United Kingdom  \n7  2010-12-01 08:28:00       1.85     17850.0  United Kingdom  \n8  2010-12-01 08:28:00       1.85     17850.0  United Kingdom  \n9  2010-12-01 08:34:00       1.69     13047.0  United Kingdom  \n10 2010-12-01 08:34:00       2.10     13047.0  United Kingdom  \n11 2010-12-01 08:34:00       2.10     13047.0  United Kingdom  \n12 2010-12-01 08:34:00       3.75     13047.0  United Kingdom  \n13 2010-12-01 08:34:00       1.65     13047.0  United Kingdom  \n14 2010-12-01 08:34:00       4.25     13047.0  United Kingdom  \n15 2010-12-01 08:34:00       4.95     13047.0  United Kingdom  \n16 2010-12-01 08:34:00       9.95     13047.0  United Kingdom  \n17 2010-12-01 08:34:00       5.95     13047.0  United Kingdom  \n18 2010-12-01 08:34:00       5.95     13047.0  United Kingdom  \n19 2010-12-01 08:34:00       7.95     13047.0  United Kingdom  \n20 2010-12-01 08:34:00       7.95     13047.0  United Kingdom  \n21 2010-12-01 08:34:00       4.25     13047.0  United Kingdom  \n22 2010-12-01 08:34:00       4.95     13047.0  United Kingdom  \n23 2010-12-01 08:34:00       4.95     13047.0  United Kingdom  \n24 2010-12-01 08:34:00       4.95     13047.0  United Kingdom  \n25 2010-12-01 08:35:00       5.95     13047.0  United Kingdom  \n26 2010-12-01 08:45:00       3.75     12583.0          France  \n27 2010-12-01 08:45:00       3.75     12583.0          France  \n28 2010-12-01 08:45:00       3.75     12583.0          France  \n29 2010-12-01 08:45:00       0.85     12583.0          France  \n30 2010-12-01 08:45:00       0.65     12583.0          France  \n31 2010-12-01 08:45:00       0.85     12583.0          France  \n32 2010-12-01 08:45:00       1.25     12583.0          France  \n33 2010-12-01 08:45:00       2.95     12583.0          France  \n34 2010-12-01 08:45:00       2.95     12583.0          France  \n35 2010-12-01 08:45:00       1.95     12583.0          France  \n36 2010-12-01 08:45:00       1.95     12583.0          France  \n37 2010-12-01 08:45:00       1.95     12583.0          France  \n38 2010-12-01 08:45:00       0.85     12583.0          France  \n39 2010-12-01 08:45:00       1.65     12583.0          France  \n40 2010-12-01 08:45:00       2.95     12583.0          France  \n41 2010-12-01 08:45:00       3.75     12583.0          France  \n42 2010-12-01 08:45:00       0.42     12583.0          France  \n43 2010-12-01 08:45:00       0.42     12583.0          France  \n44 2010-12-01 08:45:00       0.65     12583.0          France  \n45 2010-12-01 08:45:00      18.00     12583.0          France  \n46 2010-12-01 09:00:00       2.55     13748.0  United Kingdom  \n47 2010-12-01 09:01:00       1.85     17850.0  United Kingdom  \n48 2010-12-01 09:01:00       1.85     17850.0  United Kingdom  \n49 2010-12-01 09:02:00       2.55     17850.0  United Kingdom  ",
      "text/html": "<div>\n<style scoped>\n    .dataframe tbody tr th:only-of-type {\n        vertical-align: middle;\n    }\n\n    .dataframe tbody tr th {\n        vertical-align: top;\n    }\n\n    .dataframe thead th {\n        text-align: right;\n    }\n</style>\n<table border=\"1\" class=\"dataframe\">\n  <thead>\n    <tr style=\"text-align: right;\">\n      <th></th>\n      <th>InvoiceNo</th>\n      <th>StockCode</th>\n      <th>Description</th>\n      <th>Quantity</th>\n      <th>InvoiceDate</th>\n      <th>UnitPrice</th>\n      <th>CustomerID</th>\n      <th>Country</th>\n    </tr>\n  </thead>\n  <tbody>\n    <tr>\n      <th>0</th>\n      <td>536365</td>\n      <td>85123A</td>\n      <td>WHITE HANGING HEART T-LIGHT HOLDER</td>\n      <td>6</td>\n      <td>2010-12-01 08:26:00</td>\n      <td>2.55</td>\n      <td>17850.0</td>\n      <td>United Kingdom</td>\n    </tr>\n    <tr>\n      <th>1</th>\n      <td>536365</td>\n      <td>71053</td>\n      <td>WHITE METAL LANTERN</td>\n      <td>6</td>\n      <td>2010-12-01 08:26:00</td>\n      <td>3.39</td>\n      <td>17850.0</td>\n      <td>United Kingdom</td>\n    </tr>\n    <tr>\n      <th>2</th>\n      <td>536365</td>\n      <td>84406B</td>\n      <td>CREAM CUPID HEARTS COAT HANGER</td>\n      <td>8</td>\n      <td>2010-12-01 08:26:00</td>\n      <td>2.75</td>\n      <td>17850.0</td>\n      <td>United Kingdom</td>\n    </tr>\n    <tr>\n      <th>3</th>\n      <td>536365</td>\n      <td>84029G</td>\n      <td>KNITTED UNION FLAG HOT WATER BOTTLE</td>\n      <td>6</td>\n      <td>2010-12-01 08:26:00</td>\n      <td>3.39</td>\n      <td>17850.0</td>\n      <td>United Kingdom</td>\n    </tr>\n    <tr>\n      <th>4</th>\n      <td>536365</td>\n      <td>84029E</td>\n      <td>RED WOOLLY HOTTIE WHITE HEART.</td>\n      <td>6</td>\n      <td>2010-12-01 08:26:00</td>\n      <td>3.39</td>\n      <td>17850.0</td>\n      <td>United Kingdom</td>\n    </tr>\n    <tr>\n      <th>5</th>\n      <td>536365</td>\n      <td>22752</td>\n      <td>SET 7 BABUSHKA NESTING BOXES</td>\n      <td>2</td>\n      <td>2010-12-01 08:26:00</td>\n      <td>7.65</td>\n      <td>17850.0</td>\n      <td>United Kingdom</td>\n    </tr>\n    <tr>\n      <th>6</th>\n      <td>536365</td>\n      <td>21730</td>\n      <td>GLASS STAR FROSTED T-LIGHT HOLDER</td>\n      <td>6</td>\n      <td>2010-12-01 08:26:00</td>\n      <td>4.25</td>\n      <td>17850.0</td>\n      <td>United Kingdom</td>\n    </tr>\n    <tr>\n      <th>7</th>\n      <td>536366</td>\n      <td>22633</td>\n      <td>HAND WARMER UNION JACK</td>\n      <td>6</td>\n      <td>2010-12-01 08:28:00</td>\n      <td>1.85</td>\n      <td>17850.0</td>\n      <td>United Kingdom</td>\n    </tr>\n    <tr>\n      <th>8</th>\n      <td>536366</td>\n      <td>22632</td>\n      <td>HAND WARMER RED POLKA DOT</td>\n      <td>6</td>\n      <td>2010-12-01 08:28:00</td>\n      <td>1.85</td>\n      <td>17850.0</td>\n      <td>United Kingdom</td>\n    </tr>\n    <tr>\n      <th>9</th>\n      <td>536367</td>\n      <td>84879</td>\n      <td>ASSORTED COLOUR BIRD ORNAMENT</td>\n      <td>32</td>\n      <td>2010-12-01 08:34:00</td>\n      <td>1.69</td>\n      <td>13047.0</td>\n      <td>United Kingdom</td>\n    </tr>\n    <tr>\n      <th>10</th>\n      <td>536367</td>\n      <td>22745</td>\n      <td>POPPY'S PLAYHOUSE BEDROOM</td>\n      <td>6</td>\n      <td>2010-12-01 08:34:00</td>\n      <td>2.10</td>\n      <td>13047.0</td>\n      <td>United Kingdom</td>\n    </tr>\n    <tr>\n      <th>11</th>\n      <td>536367</td>\n      <td>22748</td>\n      <td>POPPY'S PLAYHOUSE KITCHEN</td>\n      <td>6</td>\n      <td>2010-12-01 08:34:00</td>\n      <td>2.10</td>\n      <td>13047.0</td>\n      <td>United Kingdom</td>\n    </tr>\n    <tr>\n      <th>12</th>\n      <td>536367</td>\n      <td>22749</td>\n      <td>FELTCRAFT PRINCESS CHARLOTTE DOLL</td>\n      <td>8</td>\n      <td>2010-12-01 08:34:00</td>\n      <td>3.75</td>\n      <td>13047.0</td>\n      <td>United Kingdom</td>\n    </tr>\n    <tr>\n      <th>13</th>\n      <td>536367</td>\n      <td>22310</td>\n      <td>IVORY KNITTED MUG COSY</td>\n      <td>6</td>\n      <td>2010-12-01 08:34:00</td>\n      <td>1.65</td>\n      <td>13047.0</td>\n      <td>United Kingdom</td>\n    </tr>\n    <tr>\n      <th>14</th>\n      <td>536367</td>\n      <td>84969</td>\n      <td>BOX OF 6 ASSORTED COLOUR TEASPOONS</td>\n      <td>6</td>\n      <td>2010-12-01 08:34:00</td>\n      <td>4.25</td>\n      <td>13047.0</td>\n      <td>United Kingdom</td>\n    </tr>\n    <tr>\n      <th>15</th>\n      <td>536367</td>\n      <td>22623</td>\n      <td>BOX OF VINTAGE JIGSAW BLOCKS</td>\n      <td>3</td>\n      <td>2010-12-01 08:34:00</td>\n      <td>4.95</td>\n      <td>13047.0</td>\n      <td>United Kingdom</td>\n    </tr>\n    <tr>\n      <th>16</th>\n      <td>536367</td>\n      <td>22622</td>\n      <td>BOX OF VINTAGE ALPHABET BLOCKS</td>\n      <td>2</td>\n      <td>2010-12-01 08:34:00</td>\n      <td>9.95</td>\n      <td>13047.0</td>\n      <td>United Kingdom</td>\n    </tr>\n    <tr>\n      <th>17</th>\n      <td>536367</td>\n      <td>21754</td>\n      <td>HOME BUILDING BLOCK WORD</td>\n      <td>3</td>\n      <td>2010-12-01 08:34:00</td>\n      <td>5.95</td>\n      <td>13047.0</td>\n      <td>United Kingdom</td>\n    </tr>\n    <tr>\n      <th>18</th>\n      <td>536367</td>\n      <td>21755</td>\n      <td>LOVE BUILDING BLOCK WORD</td>\n      <td>3</td>\n      <td>2010-12-01 08:34:00</td>\n      <td>5.95</td>\n      <td>13047.0</td>\n      <td>United Kingdom</td>\n    </tr>\n    <tr>\n      <th>19</th>\n      <td>536367</td>\n      <td>21777</td>\n      <td>RECIPE BOX WITH METAL HEART</td>\n      <td>4</td>\n      <td>2010-12-01 08:34:00</td>\n      <td>7.95</td>\n      <td>13047.0</td>\n      <td>United Kingdom</td>\n    </tr>\n    <tr>\n      <th>20</th>\n      <td>536367</td>\n      <td>48187</td>\n      <td>DOORMAT NEW ENGLAND</td>\n      <td>4</td>\n      <td>2010-12-01 08:34:00</td>\n      <td>7.95</td>\n      <td>13047.0</td>\n      <td>United Kingdom</td>\n    </tr>\n    <tr>\n      <th>21</th>\n      <td>536368</td>\n      <td>22960</td>\n      <td>JAM MAKING SET WITH JARS</td>\n      <td>6</td>\n      <td>2010-12-01 08:34:00</td>\n      <td>4.25</td>\n      <td>13047.0</td>\n      <td>United Kingdom</td>\n    </tr>\n    <tr>\n      <th>22</th>\n      <td>536368</td>\n      <td>22913</td>\n      <td>RED COAT RACK PARIS FASHION</td>\n      <td>3</td>\n      <td>2010-12-01 08:34:00</td>\n      <td>4.95</td>\n      <td>13047.0</td>\n      <td>United Kingdom</td>\n    </tr>\n    <tr>\n      <th>23</th>\n      <td>536368</td>\n      <td>22912</td>\n      <td>YELLOW COAT RACK PARIS FASHION</td>\n      <td>3</td>\n      <td>2010-12-01 08:34:00</td>\n      <td>4.95</td>\n      <td>13047.0</td>\n      <td>United Kingdom</td>\n    </tr>\n    <tr>\n      <th>24</th>\n      <td>536368</td>\n      <td>22914</td>\n      <td>BLUE COAT RACK PARIS FASHION</td>\n      <td>3</td>\n      <td>2010-12-01 08:34:00</td>\n      <td>4.95</td>\n      <td>13047.0</td>\n      <td>United Kingdom</td>\n    </tr>\n    <tr>\n      <th>25</th>\n      <td>536369</td>\n      <td>21756</td>\n      <td>BATH BUILDING BLOCK WORD</td>\n      <td>3</td>\n      <td>2010-12-01 08:35:00</td>\n      <td>5.95</td>\n      <td>13047.0</td>\n      <td>United Kingdom</td>\n    </tr>\n    <tr>\n      <th>26</th>\n      <td>536370</td>\n      <td>22728</td>\n      <td>ALARM CLOCK BAKELIKE PINK</td>\n      <td>24</td>\n      <td>2010-12-01 08:45:00</td>\n      <td>3.75</td>\n      <td>12583.0</td>\n      <td>France</td>\n    </tr>\n    <tr>\n      <th>27</th>\n      <td>536370</td>\n      <td>22727</td>\n      <td>ALARM CLOCK BAKELIKE RED</td>\n      <td>24</td>\n      <td>2010-12-01 08:45:00</td>\n      <td>3.75</td>\n      <td>12583.0</td>\n      <td>France</td>\n    </tr>\n    <tr>\n      <th>28</th>\n      <td>536370</td>\n      <td>22726</td>\n      <td>ALARM CLOCK BAKELIKE GREEN</td>\n      <td>12</td>\n      <td>2010-12-01 08:45:00</td>\n      <td>3.75</td>\n      <td>12583.0</td>\n      <td>France</td>\n    </tr>\n    <tr>\n      <th>29</th>\n      <td>536370</td>\n      <td>21724</td>\n      <td>PANDA AND BUNNIES STICKER SHEET</td>\n      <td>12</td>\n      <td>2010-12-01 08:45:00</td>\n      <td>0.85</td>\n      <td>12583.0</td>\n      <td>France</td>\n    </tr>\n    <tr>\n      <th>30</th>\n      <td>536370</td>\n      <td>21883</td>\n      <td>STARS GIFT TAPE</td>\n      <td>24</td>\n      <td>2010-12-01 08:45:00</td>\n      <td>0.65</td>\n      <td>12583.0</td>\n      <td>France</td>\n    </tr>\n    <tr>\n      <th>31</th>\n      <td>536370</td>\n      <td>10002</td>\n      <td>INFLATABLE POLITICAL GLOBE</td>\n      <td>48</td>\n      <td>2010-12-01 08:45:00</td>\n      <td>0.85</td>\n      <td>12583.0</td>\n      <td>France</td>\n    </tr>\n    <tr>\n      <th>32</th>\n      <td>536370</td>\n      <td>21791</td>\n      <td>VINTAGE HEADS AND TAILS CARD GAME</td>\n      <td>24</td>\n      <td>2010-12-01 08:45:00</td>\n      <td>1.25</td>\n      <td>12583.0</td>\n      <td>France</td>\n    </tr>\n    <tr>\n      <th>33</th>\n      <td>536370</td>\n      <td>21035</td>\n      <td>SET/2 RED RETROSPOT TEA TOWELS</td>\n      <td>18</td>\n      <td>2010-12-01 08:45:00</td>\n      <td>2.95</td>\n      <td>12583.0</td>\n      <td>France</td>\n    </tr>\n    <tr>\n      <th>34</th>\n      <td>536370</td>\n      <td>22326</td>\n      <td>ROUND SNACK BOXES SET OF4 WOODLAND</td>\n      <td>24</td>\n      <td>2010-12-01 08:45:00</td>\n      <td>2.95</td>\n      <td>12583.0</td>\n      <td>France</td>\n    </tr>\n    <tr>\n      <th>35</th>\n      <td>536370</td>\n      <td>22629</td>\n      <td>SPACEBOY LUNCH BOX</td>\n      <td>24</td>\n      <td>2010-12-01 08:45:00</td>\n      <td>1.95</td>\n      <td>12583.0</td>\n      <td>France</td>\n    </tr>\n    <tr>\n      <th>36</th>\n      <td>536370</td>\n      <td>22659</td>\n      <td>LUNCH BOX I LOVE LONDON</td>\n      <td>24</td>\n      <td>2010-12-01 08:45:00</td>\n      <td>1.95</td>\n      <td>12583.0</td>\n      <td>France</td>\n    </tr>\n    <tr>\n      <th>37</th>\n      <td>536370</td>\n      <td>22631</td>\n      <td>CIRCUS PARADE LUNCH BOX</td>\n      <td>24</td>\n      <td>2010-12-01 08:45:00</td>\n      <td>1.95</td>\n      <td>12583.0</td>\n      <td>France</td>\n    </tr>\n    <tr>\n      <th>38</th>\n      <td>536370</td>\n      <td>22661</td>\n      <td>CHARLOTTE BAG DOLLY GIRL DESIGN</td>\n      <td>20</td>\n      <td>2010-12-01 08:45:00</td>\n      <td>0.85</td>\n      <td>12583.0</td>\n      <td>France</td>\n    </tr>\n    <tr>\n      <th>39</th>\n      <td>536370</td>\n      <td>21731</td>\n      <td>RED TOADSTOOL LED NIGHT LIGHT</td>\n      <td>24</td>\n      <td>2010-12-01 08:45:00</td>\n      <td>1.65</td>\n      <td>12583.0</td>\n      <td>France</td>\n    </tr>\n    <tr>\n      <th>40</th>\n      <td>536370</td>\n      <td>22900</td>\n      <td>SET 2 TEA TOWELS I LOVE LONDON</td>\n      <td>24</td>\n      <td>2010-12-01 08:45:00</td>\n      <td>2.95</td>\n      <td>12583.0</td>\n      <td>France</td>\n    </tr>\n    <tr>\n      <th>41</th>\n      <td>536370</td>\n      <td>21913</td>\n      <td>VINTAGE SEASIDE JIGSAW PUZZLES</td>\n      <td>12</td>\n      <td>2010-12-01 08:45:00</td>\n      <td>3.75</td>\n      <td>12583.0</td>\n      <td>France</td>\n    </tr>\n    <tr>\n      <th>42</th>\n      <td>536370</td>\n      <td>22540</td>\n      <td>MINI JIGSAW CIRCUS PARADE</td>\n      <td>24</td>\n      <td>2010-12-01 08:45:00</td>\n      <td>0.42</td>\n      <td>12583.0</td>\n      <td>France</td>\n    </tr>\n    <tr>\n      <th>43</th>\n      <td>536370</td>\n      <td>22544</td>\n      <td>MINI JIGSAW SPACEBOY</td>\n      <td>24</td>\n      <td>2010-12-01 08:45:00</td>\n      <td>0.42</td>\n      <td>12583.0</td>\n      <td>France</td>\n    </tr>\n    <tr>\n      <th>44</th>\n      <td>536370</td>\n      <td>22492</td>\n      <td>MINI PAINT SET VINTAGE</td>\n      <td>36</td>\n      <td>2010-12-01 08:45:00</td>\n      <td>0.65</td>\n      <td>12583.0</td>\n      <td>France</td>\n    </tr>\n    <tr>\n      <th>45</th>\n      <td>536370</td>\n      <td>POST</td>\n      <td>POSTAGE</td>\n      <td>3</td>\n      <td>2010-12-01 08:45:00</td>\n      <td>18.00</td>\n      <td>12583.0</td>\n      <td>France</td>\n    </tr>\n    <tr>\n      <th>46</th>\n      <td>536371</td>\n      <td>22086</td>\n      <td>PAPER CHAIN KIT 50'S CHRISTMAS</td>\n      <td>80</td>\n      <td>2010-12-01 09:00:00</td>\n      <td>2.55</td>\n      <td>13748.0</td>\n      <td>United Kingdom</td>\n    </tr>\n    <tr>\n      <th>47</th>\n      <td>536372</td>\n      <td>22632</td>\n      <td>HAND WARMER RED POLKA DOT</td>\n      <td>6</td>\n      <td>2010-12-01 09:01:00</td>\n      <td>1.85</td>\n      <td>17850.0</td>\n      <td>United Kingdom</td>\n    </tr>\n    <tr>\n      <th>48</th>\n      <td>536372</td>\n      <td>22633</td>\n      <td>HAND WARMER UNION JACK</td>\n      <td>6</td>\n      <td>2010-12-01 09:01:00</td>\n      <td>1.85</td>\n      <td>17850.0</td>\n      <td>United Kingdom</td>\n    </tr>\n    <tr>\n      <th>49</th>\n      <td>536373</td>\n      <td>85123A</td>\n      <td>WHITE HANGING HEART T-LIGHT HOLDER</td>\n      <td>6</td>\n      <td>2010-12-01 09:02:00</td>\n      <td>2.55</td>\n      <td>17850.0</td>\n      <td>United Kingdom</td>\n    </tr>\n  </tbody>\n</table>\n</div>"
     },
     "execution_count": 12,
     "metadata": {},
     "output_type": "execute_result"
    }
   ],
   "source": [
    "# Drop rows where quantity is negative\n",
    "retail_consistency_1 = retail_raw.copy()\n",
    "\n",
    "retail_consistency_1 = retail_consistency_1[retail_consistency_1['Quantity'] >= 1]\n",
    "retail_consistency_1.head(50)"
   ],
   "metadata": {
    "collapsed": false,
    "ExecuteTime": {
     "end_time": "2024-03-07T14:53:33.529653Z",
     "start_time": "2024-03-07T14:53:33.377802Z"
    }
   }
  },
  {
   "cell_type": "code",
   "execution_count": 13,
   "outputs": [
    {
     "data": {
      "text/plain": "InvoiceNo           0\nStockCode           0\nDescription       592\nQuantity            0\nInvoiceDate         0\nUnitPrice           0\nCustomerID     133361\nCountry             0\ndtype: int64"
     },
     "execution_count": 13,
     "metadata": {},
     "output_type": "execute_result"
    }
   ],
   "source": [
    "retail_consistency_1.isna().sum()\n"
   ],
   "metadata": {
    "collapsed": false,
    "ExecuteTime": {
     "end_time": "2024-03-07T14:53:33.715115Z",
     "start_time": "2024-03-07T14:53:33.445321Z"
    }
   }
  },
  {
   "cell_type": "code",
   "execution_count": 14,
   "outputs": [
    {
     "data": {
      "text/plain": "   InvoiceNo StockCode                          Description  Quantity  \\\n0     536365    85123A   WHITE HANGING HEART T-LIGHT HOLDER         6   \n1     536365     71053                  WHITE METAL LANTERN         6   \n2     536365    84406B       CREAM CUPID HEARTS COAT HANGER         8   \n3     536365    84029G  KNITTED UNION FLAG HOT WATER BOTTLE         6   \n4     536365    84029E       RED WOOLLY HOTTIE WHITE HEART.         6   \n5     536365     22752         SET 7 BABUSHKA NESTING BOXES         2   \n6     536365     21730    GLASS STAR FROSTED T-LIGHT HOLDER         6   \n7     536366     22633               HAND WARMER UNION JACK         6   \n8     536366     22632            HAND WARMER RED POLKA DOT         6   \n9     536367     84879        ASSORTED COLOUR BIRD ORNAMENT        32   \n10    536367     22745           POPPY'S PLAYHOUSE BEDROOM          6   \n11    536367     22748            POPPY'S PLAYHOUSE KITCHEN         6   \n12    536367     22749    FELTCRAFT PRINCESS CHARLOTTE DOLL         8   \n13    536367     22310              IVORY KNITTED MUG COSY          6   \n14    536367     84969   BOX OF 6 ASSORTED COLOUR TEASPOONS         6   \n15    536367     22623        BOX OF VINTAGE JIGSAW BLOCKS          3   \n16    536367     22622       BOX OF VINTAGE ALPHABET BLOCKS         2   \n17    536367     21754             HOME BUILDING BLOCK WORD         3   \n18    536367     21755             LOVE BUILDING BLOCK WORD         3   \n19    536367     21777          RECIPE BOX WITH METAL HEART         4   \n20    536367     48187                  DOORMAT NEW ENGLAND         4   \n21    536368     22960             JAM MAKING SET WITH JARS         6   \n22    536368     22913          RED COAT RACK PARIS FASHION         3   \n23    536368     22912       YELLOW COAT RACK PARIS FASHION         3   \n24    536368     22914         BLUE COAT RACK PARIS FASHION         3   \n25    536369     21756             BATH BUILDING BLOCK WORD         3   \n26    536370     22728            ALARM CLOCK BAKELIKE PINK        24   \n27    536370     22727            ALARM CLOCK BAKELIKE RED         24   \n28    536370     22726           ALARM CLOCK BAKELIKE GREEN        12   \n29    536370     21724      PANDA AND BUNNIES STICKER SHEET        12   \n30    536370     21883                     STARS GIFT TAPE         24   \n31    536370     10002          INFLATABLE POLITICAL GLOBE         48   \n32    536370     21791   VINTAGE HEADS AND TAILS CARD GAME         24   \n33    536370     21035      SET/2 RED RETROSPOT TEA TOWELS         18   \n34    536370     22326  ROUND SNACK BOXES SET OF4 WOODLAND         24   \n35    536370     22629                  SPACEBOY LUNCH BOX         24   \n36    536370     22659              LUNCH BOX I LOVE LONDON        24   \n37    536370     22631             CIRCUS PARADE LUNCH BOX         24   \n38    536370     22661      CHARLOTTE BAG DOLLY GIRL DESIGN        20   \n39    536370     21731        RED TOADSTOOL LED NIGHT LIGHT        24   \n40    536370     22900      SET 2 TEA TOWELS I LOVE LONDON         24   \n41    536370     21913       VINTAGE SEASIDE JIGSAW PUZZLES        12   \n42    536370     22540           MINI JIGSAW CIRCUS PARADE         24   \n43    536370     22544                 MINI JIGSAW SPACEBOY        24   \n44    536370     22492              MINI PAINT SET VINTAGE         36   \n45    536370      POST                              POSTAGE         3   \n46    536371     22086      PAPER CHAIN KIT 50'S CHRISTMAS         80   \n47    536372     22632            HAND WARMER RED POLKA DOT         6   \n48    536372     22633               HAND WARMER UNION JACK         6   \n49    536373    85123A   WHITE HANGING HEART T-LIGHT HOLDER         6   \n\n           InvoiceDate  UnitPrice  CustomerID         Country  \n0  2010-12-01 08:26:00       2.55     17850.0  United Kingdom  \n1  2010-12-01 08:26:00       3.39     17850.0  United Kingdom  \n2  2010-12-01 08:26:00       2.75     17850.0  United Kingdom  \n3  2010-12-01 08:26:00       3.39     17850.0  United Kingdom  \n4  2010-12-01 08:26:00       3.39     17850.0  United Kingdom  \n5  2010-12-01 08:26:00       7.65     17850.0  United Kingdom  \n6  2010-12-01 08:26:00       4.25     17850.0  United Kingdom  \n7  2010-12-01 08:28:00       1.85     17850.0  United Kingdom  \n8  2010-12-01 08:28:00       1.85     17850.0  United Kingdom  \n9  2010-12-01 08:34:00       1.69     13047.0  United Kingdom  \n10 2010-12-01 08:34:00       2.10     13047.0  United Kingdom  \n11 2010-12-01 08:34:00       2.10     13047.0  United Kingdom  \n12 2010-12-01 08:34:00       3.75     13047.0  United Kingdom  \n13 2010-12-01 08:34:00       1.65     13047.0  United Kingdom  \n14 2010-12-01 08:34:00       4.25     13047.0  United Kingdom  \n15 2010-12-01 08:34:00       4.95     13047.0  United Kingdom  \n16 2010-12-01 08:34:00       9.95     13047.0  United Kingdom  \n17 2010-12-01 08:34:00       5.95     13047.0  United Kingdom  \n18 2010-12-01 08:34:00       5.95     13047.0  United Kingdom  \n19 2010-12-01 08:34:00       7.95     13047.0  United Kingdom  \n20 2010-12-01 08:34:00       7.95     13047.0  United Kingdom  \n21 2010-12-01 08:34:00       4.25     13047.0  United Kingdom  \n22 2010-12-01 08:34:00       4.95     13047.0  United Kingdom  \n23 2010-12-01 08:34:00       4.95     13047.0  United Kingdom  \n24 2010-12-01 08:34:00       4.95     13047.0  United Kingdom  \n25 2010-12-01 08:35:00       5.95     13047.0  United Kingdom  \n26 2010-12-01 08:45:00       3.75     12583.0          France  \n27 2010-12-01 08:45:00       3.75     12583.0          France  \n28 2010-12-01 08:45:00       3.75     12583.0          France  \n29 2010-12-01 08:45:00       0.85     12583.0          France  \n30 2010-12-01 08:45:00       0.65     12583.0          France  \n31 2010-12-01 08:45:00       0.85     12583.0          France  \n32 2010-12-01 08:45:00       1.25     12583.0          France  \n33 2010-12-01 08:45:00       2.95     12583.0          France  \n34 2010-12-01 08:45:00       2.95     12583.0          France  \n35 2010-12-01 08:45:00       1.95     12583.0          France  \n36 2010-12-01 08:45:00       1.95     12583.0          France  \n37 2010-12-01 08:45:00       1.95     12583.0          France  \n38 2010-12-01 08:45:00       0.85     12583.0          France  \n39 2010-12-01 08:45:00       1.65     12583.0          France  \n40 2010-12-01 08:45:00       2.95     12583.0          France  \n41 2010-12-01 08:45:00       3.75     12583.0          France  \n42 2010-12-01 08:45:00       0.42     12583.0          France  \n43 2010-12-01 08:45:00       0.42     12583.0          France  \n44 2010-12-01 08:45:00       0.65     12583.0          France  \n45 2010-12-01 08:45:00      18.00     12583.0          France  \n46 2010-12-01 09:00:00       2.55     13748.0  United Kingdom  \n47 2010-12-01 09:01:00       1.85     17850.0  United Kingdom  \n48 2010-12-01 09:01:00       1.85     17850.0  United Kingdom  \n49 2010-12-01 09:02:00       2.55     17850.0  United Kingdom  ",
      "text/html": "<div>\n<style scoped>\n    .dataframe tbody tr th:only-of-type {\n        vertical-align: middle;\n    }\n\n    .dataframe tbody tr th {\n        vertical-align: top;\n    }\n\n    .dataframe thead th {\n        text-align: right;\n    }\n</style>\n<table border=\"1\" class=\"dataframe\">\n  <thead>\n    <tr style=\"text-align: right;\">\n      <th></th>\n      <th>InvoiceNo</th>\n      <th>StockCode</th>\n      <th>Description</th>\n      <th>Quantity</th>\n      <th>InvoiceDate</th>\n      <th>UnitPrice</th>\n      <th>CustomerID</th>\n      <th>Country</th>\n    </tr>\n  </thead>\n  <tbody>\n    <tr>\n      <th>0</th>\n      <td>536365</td>\n      <td>85123A</td>\n      <td>WHITE HANGING HEART T-LIGHT HOLDER</td>\n      <td>6</td>\n      <td>2010-12-01 08:26:00</td>\n      <td>2.55</td>\n      <td>17850.0</td>\n      <td>United Kingdom</td>\n    </tr>\n    <tr>\n      <th>1</th>\n      <td>536365</td>\n      <td>71053</td>\n      <td>WHITE METAL LANTERN</td>\n      <td>6</td>\n      <td>2010-12-01 08:26:00</td>\n      <td>3.39</td>\n      <td>17850.0</td>\n      <td>United Kingdom</td>\n    </tr>\n    <tr>\n      <th>2</th>\n      <td>536365</td>\n      <td>84406B</td>\n      <td>CREAM CUPID HEARTS COAT HANGER</td>\n      <td>8</td>\n      <td>2010-12-01 08:26:00</td>\n      <td>2.75</td>\n      <td>17850.0</td>\n      <td>United Kingdom</td>\n    </tr>\n    <tr>\n      <th>3</th>\n      <td>536365</td>\n      <td>84029G</td>\n      <td>KNITTED UNION FLAG HOT WATER BOTTLE</td>\n      <td>6</td>\n      <td>2010-12-01 08:26:00</td>\n      <td>3.39</td>\n      <td>17850.0</td>\n      <td>United Kingdom</td>\n    </tr>\n    <tr>\n      <th>4</th>\n      <td>536365</td>\n      <td>84029E</td>\n      <td>RED WOOLLY HOTTIE WHITE HEART.</td>\n      <td>6</td>\n      <td>2010-12-01 08:26:00</td>\n      <td>3.39</td>\n      <td>17850.0</td>\n      <td>United Kingdom</td>\n    </tr>\n    <tr>\n      <th>5</th>\n      <td>536365</td>\n      <td>22752</td>\n      <td>SET 7 BABUSHKA NESTING BOXES</td>\n      <td>2</td>\n      <td>2010-12-01 08:26:00</td>\n      <td>7.65</td>\n      <td>17850.0</td>\n      <td>United Kingdom</td>\n    </tr>\n    <tr>\n      <th>6</th>\n      <td>536365</td>\n      <td>21730</td>\n      <td>GLASS STAR FROSTED T-LIGHT HOLDER</td>\n      <td>6</td>\n      <td>2010-12-01 08:26:00</td>\n      <td>4.25</td>\n      <td>17850.0</td>\n      <td>United Kingdom</td>\n    </tr>\n    <tr>\n      <th>7</th>\n      <td>536366</td>\n      <td>22633</td>\n      <td>HAND WARMER UNION JACK</td>\n      <td>6</td>\n      <td>2010-12-01 08:28:00</td>\n      <td>1.85</td>\n      <td>17850.0</td>\n      <td>United Kingdom</td>\n    </tr>\n    <tr>\n      <th>8</th>\n      <td>536366</td>\n      <td>22632</td>\n      <td>HAND WARMER RED POLKA DOT</td>\n      <td>6</td>\n      <td>2010-12-01 08:28:00</td>\n      <td>1.85</td>\n      <td>17850.0</td>\n      <td>United Kingdom</td>\n    </tr>\n    <tr>\n      <th>9</th>\n      <td>536367</td>\n      <td>84879</td>\n      <td>ASSORTED COLOUR BIRD ORNAMENT</td>\n      <td>32</td>\n      <td>2010-12-01 08:34:00</td>\n      <td>1.69</td>\n      <td>13047.0</td>\n      <td>United Kingdom</td>\n    </tr>\n    <tr>\n      <th>10</th>\n      <td>536367</td>\n      <td>22745</td>\n      <td>POPPY'S PLAYHOUSE BEDROOM</td>\n      <td>6</td>\n      <td>2010-12-01 08:34:00</td>\n      <td>2.10</td>\n      <td>13047.0</td>\n      <td>United Kingdom</td>\n    </tr>\n    <tr>\n      <th>11</th>\n      <td>536367</td>\n      <td>22748</td>\n      <td>POPPY'S PLAYHOUSE KITCHEN</td>\n      <td>6</td>\n      <td>2010-12-01 08:34:00</td>\n      <td>2.10</td>\n      <td>13047.0</td>\n      <td>United Kingdom</td>\n    </tr>\n    <tr>\n      <th>12</th>\n      <td>536367</td>\n      <td>22749</td>\n      <td>FELTCRAFT PRINCESS CHARLOTTE DOLL</td>\n      <td>8</td>\n      <td>2010-12-01 08:34:00</td>\n      <td>3.75</td>\n      <td>13047.0</td>\n      <td>United Kingdom</td>\n    </tr>\n    <tr>\n      <th>13</th>\n      <td>536367</td>\n      <td>22310</td>\n      <td>IVORY KNITTED MUG COSY</td>\n      <td>6</td>\n      <td>2010-12-01 08:34:00</td>\n      <td>1.65</td>\n      <td>13047.0</td>\n      <td>United Kingdom</td>\n    </tr>\n    <tr>\n      <th>14</th>\n      <td>536367</td>\n      <td>84969</td>\n      <td>BOX OF 6 ASSORTED COLOUR TEASPOONS</td>\n      <td>6</td>\n      <td>2010-12-01 08:34:00</td>\n      <td>4.25</td>\n      <td>13047.0</td>\n      <td>United Kingdom</td>\n    </tr>\n    <tr>\n      <th>15</th>\n      <td>536367</td>\n      <td>22623</td>\n      <td>BOX OF VINTAGE JIGSAW BLOCKS</td>\n      <td>3</td>\n      <td>2010-12-01 08:34:00</td>\n      <td>4.95</td>\n      <td>13047.0</td>\n      <td>United Kingdom</td>\n    </tr>\n    <tr>\n      <th>16</th>\n      <td>536367</td>\n      <td>22622</td>\n      <td>BOX OF VINTAGE ALPHABET BLOCKS</td>\n      <td>2</td>\n      <td>2010-12-01 08:34:00</td>\n      <td>9.95</td>\n      <td>13047.0</td>\n      <td>United Kingdom</td>\n    </tr>\n    <tr>\n      <th>17</th>\n      <td>536367</td>\n      <td>21754</td>\n      <td>HOME BUILDING BLOCK WORD</td>\n      <td>3</td>\n      <td>2010-12-01 08:34:00</td>\n      <td>5.95</td>\n      <td>13047.0</td>\n      <td>United Kingdom</td>\n    </tr>\n    <tr>\n      <th>18</th>\n      <td>536367</td>\n      <td>21755</td>\n      <td>LOVE BUILDING BLOCK WORD</td>\n      <td>3</td>\n      <td>2010-12-01 08:34:00</td>\n      <td>5.95</td>\n      <td>13047.0</td>\n      <td>United Kingdom</td>\n    </tr>\n    <tr>\n      <th>19</th>\n      <td>536367</td>\n      <td>21777</td>\n      <td>RECIPE BOX WITH METAL HEART</td>\n      <td>4</td>\n      <td>2010-12-01 08:34:00</td>\n      <td>7.95</td>\n      <td>13047.0</td>\n      <td>United Kingdom</td>\n    </tr>\n    <tr>\n      <th>20</th>\n      <td>536367</td>\n      <td>48187</td>\n      <td>DOORMAT NEW ENGLAND</td>\n      <td>4</td>\n      <td>2010-12-01 08:34:00</td>\n      <td>7.95</td>\n      <td>13047.0</td>\n      <td>United Kingdom</td>\n    </tr>\n    <tr>\n      <th>21</th>\n      <td>536368</td>\n      <td>22960</td>\n      <td>JAM MAKING SET WITH JARS</td>\n      <td>6</td>\n      <td>2010-12-01 08:34:00</td>\n      <td>4.25</td>\n      <td>13047.0</td>\n      <td>United Kingdom</td>\n    </tr>\n    <tr>\n      <th>22</th>\n      <td>536368</td>\n      <td>22913</td>\n      <td>RED COAT RACK PARIS FASHION</td>\n      <td>3</td>\n      <td>2010-12-01 08:34:00</td>\n      <td>4.95</td>\n      <td>13047.0</td>\n      <td>United Kingdom</td>\n    </tr>\n    <tr>\n      <th>23</th>\n      <td>536368</td>\n      <td>22912</td>\n      <td>YELLOW COAT RACK PARIS FASHION</td>\n      <td>3</td>\n      <td>2010-12-01 08:34:00</td>\n      <td>4.95</td>\n      <td>13047.0</td>\n      <td>United Kingdom</td>\n    </tr>\n    <tr>\n      <th>24</th>\n      <td>536368</td>\n      <td>22914</td>\n      <td>BLUE COAT RACK PARIS FASHION</td>\n      <td>3</td>\n      <td>2010-12-01 08:34:00</td>\n      <td>4.95</td>\n      <td>13047.0</td>\n      <td>United Kingdom</td>\n    </tr>\n    <tr>\n      <th>25</th>\n      <td>536369</td>\n      <td>21756</td>\n      <td>BATH BUILDING BLOCK WORD</td>\n      <td>3</td>\n      <td>2010-12-01 08:35:00</td>\n      <td>5.95</td>\n      <td>13047.0</td>\n      <td>United Kingdom</td>\n    </tr>\n    <tr>\n      <th>26</th>\n      <td>536370</td>\n      <td>22728</td>\n      <td>ALARM CLOCK BAKELIKE PINK</td>\n      <td>24</td>\n      <td>2010-12-01 08:45:00</td>\n      <td>3.75</td>\n      <td>12583.0</td>\n      <td>France</td>\n    </tr>\n    <tr>\n      <th>27</th>\n      <td>536370</td>\n      <td>22727</td>\n      <td>ALARM CLOCK BAKELIKE RED</td>\n      <td>24</td>\n      <td>2010-12-01 08:45:00</td>\n      <td>3.75</td>\n      <td>12583.0</td>\n      <td>France</td>\n    </tr>\n    <tr>\n      <th>28</th>\n      <td>536370</td>\n      <td>22726</td>\n      <td>ALARM CLOCK BAKELIKE GREEN</td>\n      <td>12</td>\n      <td>2010-12-01 08:45:00</td>\n      <td>3.75</td>\n      <td>12583.0</td>\n      <td>France</td>\n    </tr>\n    <tr>\n      <th>29</th>\n      <td>536370</td>\n      <td>21724</td>\n      <td>PANDA AND BUNNIES STICKER SHEET</td>\n      <td>12</td>\n      <td>2010-12-01 08:45:00</td>\n      <td>0.85</td>\n      <td>12583.0</td>\n      <td>France</td>\n    </tr>\n    <tr>\n      <th>30</th>\n      <td>536370</td>\n      <td>21883</td>\n      <td>STARS GIFT TAPE</td>\n      <td>24</td>\n      <td>2010-12-01 08:45:00</td>\n      <td>0.65</td>\n      <td>12583.0</td>\n      <td>France</td>\n    </tr>\n    <tr>\n      <th>31</th>\n      <td>536370</td>\n      <td>10002</td>\n      <td>INFLATABLE POLITICAL GLOBE</td>\n      <td>48</td>\n      <td>2010-12-01 08:45:00</td>\n      <td>0.85</td>\n      <td>12583.0</td>\n      <td>France</td>\n    </tr>\n    <tr>\n      <th>32</th>\n      <td>536370</td>\n      <td>21791</td>\n      <td>VINTAGE HEADS AND TAILS CARD GAME</td>\n      <td>24</td>\n      <td>2010-12-01 08:45:00</td>\n      <td>1.25</td>\n      <td>12583.0</td>\n      <td>France</td>\n    </tr>\n    <tr>\n      <th>33</th>\n      <td>536370</td>\n      <td>21035</td>\n      <td>SET/2 RED RETROSPOT TEA TOWELS</td>\n      <td>18</td>\n      <td>2010-12-01 08:45:00</td>\n      <td>2.95</td>\n      <td>12583.0</td>\n      <td>France</td>\n    </tr>\n    <tr>\n      <th>34</th>\n      <td>536370</td>\n      <td>22326</td>\n      <td>ROUND SNACK BOXES SET OF4 WOODLAND</td>\n      <td>24</td>\n      <td>2010-12-01 08:45:00</td>\n      <td>2.95</td>\n      <td>12583.0</td>\n      <td>France</td>\n    </tr>\n    <tr>\n      <th>35</th>\n      <td>536370</td>\n      <td>22629</td>\n      <td>SPACEBOY LUNCH BOX</td>\n      <td>24</td>\n      <td>2010-12-01 08:45:00</td>\n      <td>1.95</td>\n      <td>12583.0</td>\n      <td>France</td>\n    </tr>\n    <tr>\n      <th>36</th>\n      <td>536370</td>\n      <td>22659</td>\n      <td>LUNCH BOX I LOVE LONDON</td>\n      <td>24</td>\n      <td>2010-12-01 08:45:00</td>\n      <td>1.95</td>\n      <td>12583.0</td>\n      <td>France</td>\n    </tr>\n    <tr>\n      <th>37</th>\n      <td>536370</td>\n      <td>22631</td>\n      <td>CIRCUS PARADE LUNCH BOX</td>\n      <td>24</td>\n      <td>2010-12-01 08:45:00</td>\n      <td>1.95</td>\n      <td>12583.0</td>\n      <td>France</td>\n    </tr>\n    <tr>\n      <th>38</th>\n      <td>536370</td>\n      <td>22661</td>\n      <td>CHARLOTTE BAG DOLLY GIRL DESIGN</td>\n      <td>20</td>\n      <td>2010-12-01 08:45:00</td>\n      <td>0.85</td>\n      <td>12583.0</td>\n      <td>France</td>\n    </tr>\n    <tr>\n      <th>39</th>\n      <td>536370</td>\n      <td>21731</td>\n      <td>RED TOADSTOOL LED NIGHT LIGHT</td>\n      <td>24</td>\n      <td>2010-12-01 08:45:00</td>\n      <td>1.65</td>\n      <td>12583.0</td>\n      <td>France</td>\n    </tr>\n    <tr>\n      <th>40</th>\n      <td>536370</td>\n      <td>22900</td>\n      <td>SET 2 TEA TOWELS I LOVE LONDON</td>\n      <td>24</td>\n      <td>2010-12-01 08:45:00</td>\n      <td>2.95</td>\n      <td>12583.0</td>\n      <td>France</td>\n    </tr>\n    <tr>\n      <th>41</th>\n      <td>536370</td>\n      <td>21913</td>\n      <td>VINTAGE SEASIDE JIGSAW PUZZLES</td>\n      <td>12</td>\n      <td>2010-12-01 08:45:00</td>\n      <td>3.75</td>\n      <td>12583.0</td>\n      <td>France</td>\n    </tr>\n    <tr>\n      <th>42</th>\n      <td>536370</td>\n      <td>22540</td>\n      <td>MINI JIGSAW CIRCUS PARADE</td>\n      <td>24</td>\n      <td>2010-12-01 08:45:00</td>\n      <td>0.42</td>\n      <td>12583.0</td>\n      <td>France</td>\n    </tr>\n    <tr>\n      <th>43</th>\n      <td>536370</td>\n      <td>22544</td>\n      <td>MINI JIGSAW SPACEBOY</td>\n      <td>24</td>\n      <td>2010-12-01 08:45:00</td>\n      <td>0.42</td>\n      <td>12583.0</td>\n      <td>France</td>\n    </tr>\n    <tr>\n      <th>44</th>\n      <td>536370</td>\n      <td>22492</td>\n      <td>MINI PAINT SET VINTAGE</td>\n      <td>36</td>\n      <td>2010-12-01 08:45:00</td>\n      <td>0.65</td>\n      <td>12583.0</td>\n      <td>France</td>\n    </tr>\n    <tr>\n      <th>45</th>\n      <td>536370</td>\n      <td>POST</td>\n      <td>POSTAGE</td>\n      <td>3</td>\n      <td>2010-12-01 08:45:00</td>\n      <td>18.00</td>\n      <td>12583.0</td>\n      <td>France</td>\n    </tr>\n    <tr>\n      <th>46</th>\n      <td>536371</td>\n      <td>22086</td>\n      <td>PAPER CHAIN KIT 50'S CHRISTMAS</td>\n      <td>80</td>\n      <td>2010-12-01 09:00:00</td>\n      <td>2.55</td>\n      <td>13748.0</td>\n      <td>United Kingdom</td>\n    </tr>\n    <tr>\n      <th>47</th>\n      <td>536372</td>\n      <td>22632</td>\n      <td>HAND WARMER RED POLKA DOT</td>\n      <td>6</td>\n      <td>2010-12-01 09:01:00</td>\n      <td>1.85</td>\n      <td>17850.0</td>\n      <td>United Kingdom</td>\n    </tr>\n    <tr>\n      <th>48</th>\n      <td>536372</td>\n      <td>22633</td>\n      <td>HAND WARMER UNION JACK</td>\n      <td>6</td>\n      <td>2010-12-01 09:01:00</td>\n      <td>1.85</td>\n      <td>17850.0</td>\n      <td>United Kingdom</td>\n    </tr>\n    <tr>\n      <th>49</th>\n      <td>536373</td>\n      <td>85123A</td>\n      <td>WHITE HANGING HEART T-LIGHT HOLDER</td>\n      <td>6</td>\n      <td>2010-12-01 09:02:00</td>\n      <td>2.55</td>\n      <td>17850.0</td>\n      <td>United Kingdom</td>\n    </tr>\n  </tbody>\n</table>\n</div>"
     },
     "execution_count": 14,
     "metadata": {},
     "output_type": "execute_result"
    }
   ],
   "source": [
    "# Drop rows where unit price is negative\n",
    "\n",
    "retail_consistency_2 = retail_consistency_1.copy()\n",
    "retail_consistency_2 = retail_consistency_2[retail_consistency_2['UnitPrice'] > 0]\n",
    "retail_consistency_2.head(50)"
   ],
   "metadata": {
    "collapsed": false,
    "ExecuteTime": {
     "end_time": "2024-03-07T14:53:33.780605Z",
     "start_time": "2024-03-07T14:53:33.702621Z"
    }
   }
  },
  {
   "cell_type": "code",
   "execution_count": 15,
   "outputs": [
    {
     "name": "stdout",
     "output_type": "stream",
     "text": [
      "            Quantity      UnitPrice     CustomerID\n",
      "count  530044.000000  530044.000000  397824.000000\n",
      "mean       10.542289       3.907521   15294.451569\n",
      "std       155.532909      35.917682    1713.269214\n",
      "min         1.000000       0.001000   12346.000000\n",
      "25%         1.000000       1.250000   13969.000000\n",
      "50%         3.000000       2.080000   15159.000000\n",
      "75%        10.000000       4.130000   16796.000000\n",
      "max     80995.000000   13541.330000   18287.000000\n",
      "<class 'pandas.core.frame.DataFrame'>\n",
      "Int64Index: 530044 entries, 0 to 541908\n",
      "Data columns (total 8 columns):\n",
      " #   Column       Non-Null Count   Dtype         \n",
      "---  ------       --------------   -----         \n",
      " 0   InvoiceNo    530044 non-null  object        \n",
      " 1   StockCode    530044 non-null  object        \n",
      " 2   Description  530044 non-null  object        \n",
      " 3   Quantity     530044 non-null  int64         \n",
      " 4   InvoiceDate  530044 non-null  datetime64[ns]\n",
      " 5   UnitPrice    530044 non-null  float64       \n",
      " 6   CustomerID   397824 non-null  float64       \n",
      " 7   Country      530044 non-null  object        \n",
      "dtypes: datetime64[ns](1), float64(2), int64(1), object(4)\n",
      "memory usage: 36.4+ MB\n",
      "None\n"
     ]
    }
   ],
   "source": [
    "retail_consistency_3 = retail_consistency_2.copy()\n",
    "\n",
    "retail_consistency_3 = retail_consistency_3[retail_consistency_3['Country'] != \"European Community\"]\n",
    "print(retail_consistency_3.describe())\n",
    "print(retail_consistency_3.info(show_counts=True))"
   ],
   "metadata": {
    "collapsed": false,
    "ExecuteTime": {
     "end_time": "2024-03-07T14:53:34.153380Z",
     "start_time": "2024-03-07T14:53:33.766847Z"
    }
   }
  },
  {
   "cell_type": "code",
   "execution_count": 16,
   "outputs": [
    {
     "data": {
      "text/plain": "InvoiceNo           0\nStockCode           0\nDescription         0\nQuantity            0\nInvoiceDate         0\nUnitPrice           0\nCustomerID     132220\nCountry             0\ndtype: int64"
     },
     "execution_count": 16,
     "metadata": {},
     "output_type": "execute_result"
    }
   ],
   "source": [
    "retail_consistency_3.isna().sum()"
   ],
   "metadata": {
    "collapsed": false,
    "ExecuteTime": {
     "end_time": "2024-03-07T14:53:34.428199Z",
     "start_time": "2024-03-07T14:53:34.149517Z"
    }
   }
  },
  {
   "cell_type": "markdown",
   "source": [
    "#### Uniqueness"
   ],
   "metadata": {
    "collapsed": false
   }
  },
  {
   "cell_type": "code",
   "execution_count": 17,
   "outputs": [
    {
     "ename": "NameError",
     "evalue": "name 'retail_consistency_4' is not defined",
     "output_type": "error",
     "traceback": [
      "\u001B[0;31m---------------------------------------------------------------------------\u001B[0m",
      "\u001B[0;31mNameError\u001B[0m                                 Traceback (most recent call last)",
      "Cell \u001B[0;32mIn[17], line 6\u001B[0m\n\u001B[1;32m      1\u001B[0m retail_unique_1 \u001B[38;5;241m=\u001B[39m retail_consistency_3\u001B[38;5;241m.\u001B[39mcopy()\n\u001B[1;32m      3\u001B[0m \u001B[38;5;66;03m# Due to the data description, each invoiceID should map to one customerIDs. This business understanding can be used to fill missing values and inconsistencies.\u001B[39;00m\n\u001B[1;32m      4\u001B[0m \n\u001B[1;32m      5\u001B[0m \u001B[38;5;66;03m# Find the max CustomerID to start generating unique IDs from\u001B[39;00m\n\u001B[0;32m----> 6\u001B[0m max_customer_id \u001B[38;5;241m=\u001B[39m \u001B[43mretail_consistency_4\u001B[49m[\u001B[38;5;124m'\u001B[39m\u001B[38;5;124mCustomerID\u001B[39m\u001B[38;5;124m'\u001B[39m]\u001B[38;5;241m.\u001B[39mmax()\n\u001B[1;32m      8\u001B[0m \u001B[38;5;66;03m# Function to generate new CustomerID where needed\u001B[39;00m\n\u001B[1;32m      9\u001B[0m \u001B[38;5;28;01mdef\u001B[39;00m \u001B[38;5;21mgenerate_customer_id\u001B[39m(group):\n",
      "\u001B[0;31mNameError\u001B[0m: name 'retail_consistency_4' is not defined"
     ]
    }
   ],
   "source": [
    "retail_unique_1 = retail_consistency_3.copy()\n",
    "\n",
    "# Due to the data description, each invoiceID should map to one customerIDs. This business understanding can be used to fill missing values and inconsistencies.\n",
    "\n",
    "# Find the max CustomerID to start generating unique IDs from\n",
    "max_customer_id = retail_consistency_4['CustomerID'].max()\n",
    "\n",
    "# Function to generate new CustomerID where needed\n",
    "def generate_customer_id(group):\n",
    "    global max_customer_id\n",
    "    if group['CustomerID'].isnull().all():  # If all values are NaN in the group\n",
    "        max_customer_id += 1  # Increment to ensure uniqueness\n",
    "        group['CustomerID'] = max_customer_id\n",
    "    return group\n",
    "\n",
    "# Apply the function to each group of InvoiceNo\n",
    "retail_consistency_4 = retail_consistency_4.groupby('InvoiceNo').apply(generate_customer_id)\n",
    "\n",
    "# Reset index if necessary (apply can sometimes change the index)\n",
    "retail_consistency_4.reset_index(drop=True, inplace=True)\n",
    "\n",
    "retail_consistency_4"
   ],
   "metadata": {
    "collapsed": false,
    "ExecuteTime": {
     "end_time": "2024-03-07T14:53:34.463891Z",
     "start_time": "2024-03-07T14:53:34.409431Z"
    }
   }
  },
  {
   "cell_type": "code",
   "execution_count": null,
   "outputs": [],
   "source": [],
   "metadata": {
    "collapsed": false,
    "ExecuteTime": {
     "start_time": "2024-03-07T14:53:34.445018Z"
    }
   }
  },
  {
   "cell_type": "code",
   "execution_count": null,
   "outputs": [],
   "source": [],
   "metadata": {
    "collapsed": false,
    "ExecuteTime": {
     "start_time": "2024-03-07T14:53:34.446911Z"
    }
   }
  },
  {
   "cell_type": "code",
   "execution_count": null,
   "outputs": [],
   "source": [
    "retail_unique_1.isna().sum()"
   ],
   "metadata": {
    "collapsed": false,
    "ExecuteTime": {
     "start_time": "2024-03-07T14:53:34.448673Z"
    }
   }
  },
  {
   "cell_type": "code",
   "execution_count": null,
   "outputs": [],
   "source": [
    "print(retail_consistency_4.head())"
   ],
   "metadata": {
    "collapsed": false,
    "ExecuteTime": {
     "start_time": "2024-03-07T14:53:34.450514Z"
    }
   }
  },
  {
   "cell_type": "code",
   "execution_count": null,
   "outputs": [],
   "source": [
    "invoice_539449 = retail_consistency_4[retail_consistency_4['InvoiceNo'] == 539449]"
   ],
   "metadata": {
    "collapsed": false,
    "ExecuteTime": {
     "start_time": "2024-03-07T14:53:34.452453Z"
    }
   }
  },
  {
   "cell_type": "code",
   "execution_count": null,
   "outputs": [],
   "source": [
    "invoice_539449"
   ],
   "metadata": {
    "collapsed": false,
    "ExecuteTime": {
     "start_time": "2024-03-07T14:53:34.454270Z"
    }
   }
  },
  {
   "cell_type": "code",
   "execution_count": null,
   "outputs": [],
   "source": [
    "retail_unique_1 = retail_consistency_3.copy()\n",
    "\n",
    "retail_unique_1 = retail_unique_1.groupby"
   ],
   "metadata": {
    "collapsed": false,
    "ExecuteTime": {
     "start_time": "2024-03-07T14:53:34.456144Z"
    }
   }
  },
  {
   "cell_type": "markdown",
   "metadata": {},
   "source": [
    "#### Q1.2 Please describe in two paragraphs the main data insights. Connect the insight with the business  (10 points)\n"
   ]
  },
  {
   "cell_type": "code",
   "execution_count": null,
   "metadata": {
    "ExecuteTime": {
     "start_time": "2024-03-07T14:53:34.457960Z"
    }
   },
   "outputs": [],
   "source": []
  },
  {
   "cell_type": "markdown",
   "metadata": {},
   "source": [
    "## Question 2: Segment the clients based on their purchase profile (35 points)"
   ]
  },
  {
   "cell_type": "markdown",
   "metadata": {},
   "source": [
    "#### Q2.1 Build a baseline model to segment the costumers. (15 points)"
   ]
  },
  {
   "cell_type": "code",
   "execution_count": null,
   "metadata": {
    "ExecuteTime": {
     "start_time": "2024-03-07T14:53:34.459026Z"
    }
   },
   "outputs": [],
   "source": []
  },
  {
   "cell_type": "markdown",
   "metadata": {},
   "source": [
    "#### Q2.2 Build a second model to segment costumers and compare the performance. (10 points)"
   ]
  },
  {
   "cell_type": "code",
   "execution_count": null,
   "metadata": {
    "ExecuteTime": {
     "start_time": "2024-03-07T14:53:34.460197Z"
    }
   },
   "outputs": [],
   "source": []
  },
  {
   "cell_type": "markdown",
   "metadata": {},
   "source": [
    "#### Q2.3 Based on the analysis, suggest a number of clusters and their characteristics to the head of marketing. Please justify your decisions. (10 points)"
   ]
  },
  {
   "cell_type": "code",
   "execution_count": null,
   "metadata": {
    "ExecuteTime": {
     "start_time": "2024-03-07T14:53:34.461532Z"
    }
   },
   "outputs": [],
   "source": []
  },
  {
   "cell_type": "markdown",
   "metadata": {},
   "source": [
    "## Question 3: Create a recommendation system that helps the company to increase sales (35 points)\n"
   ]
  },
  {
   "cell_type": "markdown",
   "metadata": {},
   "source": [
    "#### Q3.1 Build the recommendation system. (25 points)"
   ]
  },
  {
   "cell_type": "code",
   "execution_count": null,
   "metadata": {
    "ExecuteTime": {
     "start_time": "2024-03-07T14:53:34.462844Z"
    }
   },
   "outputs": [],
   "source": []
  },
  {
   "cell_type": "markdown",
   "metadata": {},
   "source": [
    "#### Q3.2 Based on the analysis, suggest how the model can be used in marketing. Which data would you like to have to improve the results? Please justify your decisions. (10 points)"
   ]
  },
  {
   "cell_type": "code",
   "execution_count": null,
   "metadata": {
    "ExecuteTime": {
     "end_time": "2024-03-07T14:53:34.464708Z",
     "start_time": "2024-03-07T14:53:34.464221Z"
    }
   },
   "outputs": [],
   "source": []
  }
 ],
 "metadata": {
  "kernelspec": {
   "display_name": "Python 3.9",
   "language": "python",
   "name": "python3"
  },
  "language_info": {
   "codemirror_mode": {
    "name": "ipython",
    "version": 3
   },
   "file_extension": ".py",
   "mimetype": "text/x-python",
   "name": "python",
   "nbconvert_exporter": "python",
   "pygments_lexer": "ipython3",
   "version": "3.9.7"
  }
 },
 "nbformat": 4,
 "nbformat_minor": 1
}
